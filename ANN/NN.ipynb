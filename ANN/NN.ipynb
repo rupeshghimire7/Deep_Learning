{
 "cells": [
  {
   "attachments": {},
   "cell_type": "markdown",
   "metadata": {},
   "source": [
    "# Artificial Neural Network"
   ]
  },
  {
   "attachments": {},
   "cell_type": "markdown",
   "metadata": {},
   "source": [
    "### Importing Dependencies"
   ]
  },
  {
   "cell_type": "code",
   "execution_count": 32,
   "metadata": {},
   "outputs": [],
   "source": [
    "import torch\n",
    "import torchvision\n",
    "import torch.nn as nn # contains all building blocks to create neural networks\n",
    "import torch.nn.functional as F # contains all functions without parameters \n",
    "import torch.optim as optim # contains optimizers such as SGD, Adam, etc.\n",
    "from torch.utils.data import DataLoader # helps with managing datasets by creating batches\n",
    "import torchvision.datasets as datasets # contains standard datasets such as MNIST, CIFAR10, etc.\n",
    "import torchvision.transforms as transforms # contains transformations to apply to datasets\n"
   ]
  },
  {
   "attachments": {},
   "cell_type": "markdown",
   "metadata": {},
   "source": [
    "### Creating a Simple Neural Network Model"
   ]
  },
  {
   "cell_type": "code",
   "execution_count": 16,
   "metadata": {},
   "outputs": [],
   "source": [
    "class NN_Model(nn.Module):\n",
    "    def __init__(self,input_size, num_classes):\n",
    "        super(NN_Model, self).__init__()\n",
    "        self.fc1 = nn.Linear(input_size, 100) # input layer\n",
    "        self.fc2 = nn.Linear(100, 50) # hidden layer\n",
    "        self.fc3 = nn.Linear(50, num_classes) # output layer\n",
    "\n",
    "    # nn.Module requires to implement the forward method to compute forward pass\n",
    "    def forward(self, x):\n",
    "        x = F.relu(self.fc1(x))\n",
    "        x = F.relu(self.fc2(x))\n",
    "        x = self.fc3(x) # last layer so automatically assigns softmax\n",
    "\n",
    "        return x"
   ]
  },
  {
   "attachments": {},
   "cell_type": "markdown",
   "metadata": {},
   "source": [
    "### Set Device"
   ]
  },
  {
   "cell_type": "code",
   "execution_count": 17,
   "metadata": {},
   "outputs": [],
   "source": [
    "device = torch.device('cuda' if torch.cuda.is_available() else 'cpu')"
   ]
  },
  {
   "attachments": {},
   "cell_type": "markdown",
   "metadata": {},
   "source": [
    "### HyperParameters"
   ]
  },
  {
   "cell_type": "code",
   "execution_count": 18,
   "metadata": {},
   "outputs": [],
   "source": [
    "input_size = 784 # for MNIST data of 28*28, unrolled to get 784\n",
    "num_classes = 10\n",
    "learning_rate = 0.001\n",
    "batch_size = 64\n",
    "epoch = 5"
   ]
  },
  {
   "attachments": {},
   "cell_type": "markdown",
   "metadata": {},
   "source": [
    "### Loading Data"
   ]
  },
  {
   "cell_type": "code",
   "execution_count": 19,
   "metadata": {},
   "outputs": [],
   "source": [
    "train_dataset = datasets.MNIST(root='dataset/',train=True,transform=transforms.ToTensor(),download=True,)\n",
    "train_dataloader = DataLoader(train_dataset, batch_size=batch_size, shuffle=True)\n",
    "test_dataset = datasets.MNIST(root='dataset/',train=False,transform=transforms.ToTensor(),download=True,)\n",
    "test_dataloader = DataLoader(test_dataset, batch_size=batch_size, shuffle=True)\n"
   ]
  },
  {
   "attachments": {},
   "cell_type": "markdown",
   "metadata": {},
   "source": [
    "### Model object"
   ]
  },
  {
   "cell_type": "code",
   "execution_count": 20,
   "metadata": {},
   "outputs": [],
   "source": [
    "model = NN_Model(input_size=input_size, num_classes=num_classes).to(device)"
   ]
  },
  {
   "attachments": {},
   "cell_type": "markdown",
   "metadata": {},
   "source": [
    "### Loss and Optimizer"
   ]
  },
  {
   "cell_type": "code",
   "execution_count": 21,
   "metadata": {},
   "outputs": [],
   "source": [
    "criterion = nn.CrossEntropyLoss()\n",
    "optimizer = optim.Adam(model.parameters(),lr=learning_rate)"
   ]
  },
  {
   "attachments": {},
   "cell_type": "markdown",
   "metadata": {},
   "source": [
    "### Training Loop\n"
   ]
  },
  {
   "cell_type": "code",
   "execution_count": 22,
   "metadata": {},
   "outputs": [
    {
     "name": "stdout",
     "output_type": "stream",
     "text": [
      "Epoch: 1\n",
      "Epoch: 1 Train Loss: 0.36 Epoch: 1 Train Accuracy: 0.89\n",
      "Epoch: 2\n",
      "Epoch: 2 Train Loss: 0.16 Epoch: 2 Train Accuracy: 0.95\n",
      "Epoch: 3\n",
      "Epoch: 3 Train Loss: 0.11 Epoch: 3 Train Accuracy: 0.97\n",
      "Epoch: 4\n",
      "Epoch: 4 Train Loss: 0.08 Epoch: 4 Train Accuracy: 0.97\n",
      "Epoch: 5\n",
      "Epoch: 5 Train Loss: 0.07 Epoch: 5 Train Accuracy: 0.98\n"
     ]
    }
   ],
   "source": [
    "for epoch_i in range(epoch):\n",
    "    losses = []\n",
    "    accuracies = []\n",
    "    print(\"Epoch:\",epoch_i+1)\n",
    "    for i,(image,label) in enumerate(train_dataloader):\n",
    "        image = image.to(device)\n",
    "        label = label.to(device)\n",
    "\n",
    "        # Getting to proper shape\n",
    "        image = image.reshape(image.shape[0],-1)\n",
    "\n",
    "        # 5 Training steps\n",
    "        logits = model(image)\n",
    "        loss = criterion(logits, label)\n",
    "        optimizer.zero_grad()\n",
    "        loss.backward()\n",
    "        optimizer.step()\n",
    "\n",
    "        losses.append(loss.item())\n",
    "        accuracies.append(label.eq(logits.detach().argmax(dim=-1)).float().mean())\n",
    "    \n",
    "    print(f\"Epoch: {epoch_i+1} Train Loss: {torch.tensor(losses).mean():.2f}\",end=' \\t')\n",
    "    print(f\"Epoch: {epoch_i+1} Train Accuracy: {torch.tensor(accuracies).mean():.2f}\")"
   ]
  },
  {
   "cell_type": "code",
   "execution_count": 29,
   "metadata": {},
   "outputs": [],
   "source": [
    "def check_accuracy(data_loader, model):\n",
    "\n",
    "    if data_loader.dataset.train:\n",
    "        print(\"Checking accuracy on training data\")\n",
    "    else:\n",
    "        print(\"Checking accuracy on test data\")\n",
    "\n",
    "    num_samples=[]\n",
    "    num_correct=[]\n",
    "    model.eval() # sets model in evaluation mode, by default it is in training mode\n",
    "\n",
    "    with torch.no_grad():\n",
    "\n",
    "        for i,(image,label) in enumerate(data_loader):\n",
    "            image = image.to(device)\n",
    "            label=label.to(device)\n",
    "\n",
    "            image = image.reshape(image.shape[0],-1)\n",
    "            \n",
    "            # Testing Loop\n",
    "            logits = model(image)\n",
    "            \n",
    "            _, preds = logits.max(1) # returns the index of the maximum value in a tensor along a given axis (1 is the axis here) \n",
    "            # if logits = [0.2, 0.5, 0.3,........] then it will return 1 as the index of the maximum value is 0.5 showing digit predicted is 1\n",
    "\n",
    "            num_correct.append((preds == label).sum())\n",
    "            num_samples.append(preds.size(0))\n",
    "            accuracy = float(sum(num_correct)/sum(num_samples)*100)\n",
    "\n",
    "        print(f\"Accuracy = {accuracy:.2f}\")\n",
    "    model.train() # sets model back to training mode\n",
    "\n",
    "    # return accuracy \n",
    "        "
   ]
  },
  {
   "cell_type": "code",
   "execution_count": 30,
   "metadata": {},
   "outputs": [
    {
     "name": "stdout",
     "output_type": "stream",
     "text": [
      "Checking accuracy on test data\n",
      "Accuracy = 97.16\n"
     ]
    }
   ],
   "source": [
    "check_accuracy(test_dataloader,model)"
   ]
  }
 ],
 "metadata": {
  "kernelspec": {
   "display_name": "Python 3",
   "language": "python",
   "name": "python3"
  },
  "language_info": {
   "codemirror_mode": {
    "name": "ipython",
    "version": 3
   },
   "file_extension": ".py",
   "mimetype": "text/x-python",
   "name": "python",
   "nbconvert_exporter": "python",
   "pygments_lexer": "ipython3",
   "version": "3.10.6"
  },
  "orig_nbformat": 4,
  "vscode": {
   "interpreter": {
    "hash": "916dbcbb3f70747c44a77c7bcd40155683ae19c65e1c03b4aa3499c5328201f1"
   }
  }
 },
 "nbformat": 4,
 "nbformat_minor": 2
}

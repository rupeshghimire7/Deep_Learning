{
 "cells": [
  {
   "cell_type": "code",
   "execution_count": 1,
   "metadata": {},
   "outputs": [],
   "source": [
    "import torch\n",
    "import torch.nn as nn"
   ]
  },
  {
   "attachments": {},
   "cell_type": "markdown",
   "metadata": {},
   "source": [
    " As described in the paper (for ResNet50), we prepare a convolution block such as \n",
    "\n",
    " 1x1,64 conv -> 3x3,64 conv -> 1x1,256 conv\n",
    "\n",
    " 1x1, 3x3,... are the kernels used, 64,256,... is the number of channels\n",
    "\n",
    " The input and output of the block are the same size\n",
    "\n",
    " expansion for the last conv layer is 4 in each block"
   ]
  },
  {
   "cell_type": "code",
   "execution_count": 2,
   "metadata": {},
   "outputs": [],
   "source": [
    "# ResNet50\n",
    "class block(nn.Module):\n",
    "    def __init__(self, in_channels, out_channels, identity_downsample=None, stride=1):\n",
    "        super(block, self).__init__()\n",
    "        self.expansion = 4\n",
    "        self.conv1 = nn.Conv2d(in_channels, out_channels, kernel_size=1, stride=1, padding=0)\n",
    "        self.bn1 = nn.BatchNorm2d(out_channels)\n",
    "        self.conv2 = nn.Conv2d(out_channels, out_channels, kernel_size=3, stride=stride, padding=1)\n",
    "        self.bn2 = nn.BatchNorm2d(out_channels)\n",
    "        self.conv3 = nn.Conv2d(out_channels, out_channels*self.expansion, kernel_size=1, stride=1, padding=0)\n",
    "        self.bn3 = nn.BatchNorm2d(out_channels*self.expansion)\n",
    "        self.relu = nn.ReLU()\n",
    "        # identity_downsample is used to match the dimensions main connection with skip connection\n",
    "        self.identity_downsample = identity_downsample\n",
    "\n",
    "\n",
    "    def forward(self,x):\n",
    "        identity = x\n",
    "\n",
    "        x = self.conv1(x)\n",
    "        x = self.bn1(x)\n",
    "        x = self.relu(x)\n",
    "        x = self.conv2(x)\n",
    "        x = self.bn2(x)\n",
    "        x = self.relu(x)\n",
    "        x = self.conv3(x)\n",
    "        x = self.bn3(x)\n",
    "\n",
    "    # identity_downsample will be used to perform the necessary downsample operation to ensure the dimensions match for the addition operation\n",
    "        if self.identity_downsample is not None:\n",
    "            identity = self.identity_downsample(identity)\n",
    "        \n",
    "        x += identity\n",
    "        x = self.relu(x)\n",
    "        return x"
   ]
  },
  {
   "cell_type": "code",
   "execution_count": 3,
   "metadata": {},
   "outputs": [],
   "source": [
    "class ResNet(nn.Module):\n",
    "    def __init__(self, block, layers, image_channels, num_classes):\n",
    "    # layers is a list of how many times we want to repeat the block. \n",
    "    # For resnet50, layers = [3,4,6,3] as we have 4 blocks and each block has 3,4,6,3 times of repeating\n",
    "        super(ResNet,self).__init__()\n",
    "        self.in_channels = 64\n",
    "        # Let's define the conv1 layer (Not resnet layer) as defined in paper\n",
    "        self.conv1 = nn.Conv2d(image_channels, out_channels=64,kernel_size=7,stride=2,padding=3)\n",
    "        self.bn1 = nn.BatchNorm2d(64)\n",
    "        self.relu = nn.ReLU()\n",
    "        self.maxpool = nn.MaxPool2d(kernel_size=3,stride=2,padding=1)\n",
    "\n",
    "        # ResNet layers\n",
    "        self.layer1 = self._make_layer(block, layers[0], out_channels=64, stride=1)\n",
    "        self.layer2 = self._make_layer(block, layers[1], out_channels=128, stride=2)\n",
    "        self.layer3 = self._make_layer(block, layers[2], out_channels=256, stride=2)\n",
    "        self.layer4 = self._make_layer(block, layers[3], out_channels=512, stride=2)\n",
    "\n",
    "        self.avgpool = nn.AdaptiveAvgPool2d((1,1))\n",
    "        self.fc = nn.Linear(512*4,num_classes)\n",
    "\n",
    "\n",
    "    def forward(self,x):\n",
    "        x = self.conv1(x)\n",
    "        x = self.bn1(x)\n",
    "        x = self.relu(x)\n",
    "        x = self.maxpool(x)\n",
    "\n",
    "        x = self.layer1(x)\n",
    "        x = self.layer2(x)\n",
    "        x = self.layer3(x)\n",
    "        x = self.layer4(x)\n",
    "\n",
    "        x = self.avgpool(x)\n",
    "        x = x.reshape(x.shape[0],-1) # reshape to shape (batch_size, 512*4) to pass to fc layer\n",
    "        x = self.fc(x)\n",
    "\n",
    "        return x\n",
    "\n",
    "    def _make_layer(self,block, num_residual_blocks, out_channels, stride):\n",
    "        identity_downsample = None\n",
    "        layers = []\n",
    "\n",
    "        # Either if we half the input space for ex, 56x56 -> 28x28 (stride=2), or channels changes\n",
    "        # we need to adapt the Identity (skip connection) so it will be able to be added\n",
    "        # to the layer that's ahead\n",
    "\n",
    "        if stride != 1 or self.in_channels != out_channels * 4:\n",
    "            identity_downsample = nn.Sequential(nn.Conv2d(self.in_channels, out_channels*4, kernel_size=1, stride=stride),\n",
    "                                                nn.BatchNorm2d(out_channels*4))\n",
    "        \n",
    "        layers.append(block(self.in_channels, out_channels, identity_downsample, stride)) \n",
    "        # Calls block class where 3 convs are present and at end, last out channels is multiplied by 4 so the in_channels for next block is 4 times the out_channels of previous block\n",
    "        self.in_channels = out_channels * 4\n",
    "\n",
    "        # For example for first resnet layer: we have 3 residual blocks, so first we append the \n",
    "        # 3 blocks to the layers module\n",
    "        # Then, we pass the input through these blocks\n",
    "        for i in range(num_residual_blocks - 1):\n",
    "            layers.append(block(self.in_channels, out_channels))\n",
    "\n",
    "        return nn.Sequential(*layers) \n",
    "    # *layers: to pass a list as a arguments, pytorch unpacks layers knowing each comes after another"
   ]
  },
  {
   "cell_type": "code",
   "execution_count": 4,
   "metadata": {},
   "outputs": [],
   "source": [
    "def Resnet50(img_channels=3, num_classes=1000):\n",
    "    # print(\"Resnet50\",ResNet(block, [3,4,6,3], img_channels, num_classes))\n",
    "    return ResNet(block, [3,4,6,3], img_channels, num_classes)\n",
    "\n",
    "\n",
    "def Resnet101(img_channels=3, num_classes=1000):\n",
    "    return ResNet(block, [3,4,23,3], img_channels, num_classes)\n",
    "\n",
    "\n",
    "def Resnet152(img_channels=3, num_classes=1000):\n",
    "    return ResNet(block, [3,8,36,3], img_channels, num_classes)\n",
    "\n"
   ]
  },
  {
   "cell_type": "code",
   "execution_count": 5,
   "metadata": {},
   "outputs": [
    {
     "name": "stdout",
     "output_type": "stream",
     "text": [
      "torch.Size([2, 1000])\n"
     ]
    }
   ],
   "source": [
    "def tests():\n",
    "    net = Resnet50()\n",
    "    x = torch.randn(2,3,224,224)\n",
    "    # print(net(x))\n",
    "    y = net(x).to('cuda')\n",
    "    print(y.shape)\n",
    "tests()"
   ]
  },
  {
   "cell_type": "code",
   "execution_count": null,
   "metadata": {},
   "outputs": [],
   "source": []
  }
 ],
 "metadata": {
  "kernelspec": {
   "display_name": "Python 3",
   "language": "python",
   "name": "python3"
  },
  "language_info": {
   "codemirror_mode": {
    "name": "ipython",
    "version": 3
   },
   "file_extension": ".py",
   "mimetype": "text/x-python",
   "name": "python",
   "nbconvert_exporter": "python",
   "pygments_lexer": "ipython3",
   "version": "3.10.6"
  },
  "orig_nbformat": 4,
  "vscode": {
   "interpreter": {
    "hash": "916dbcbb3f70747c44a77c7bcd40155683ae19c65e1c03b4aa3499c5328201f1"
   }
  }
 },
 "nbformat": 4,
 "nbformat_minor": 2
}
